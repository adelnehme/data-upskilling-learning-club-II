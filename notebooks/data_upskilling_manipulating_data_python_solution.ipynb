{
  "nbformat": 4,
  "nbformat_minor": 0,
  "metadata": {
    "colab": {
      "name": "Data UpSkilling Learning Club: Manipulating Data with Python_Solution.ipynb",
      "provenance": []
    },
    "kernelspec": {
      "name": "python3",
      "display_name": "Python 3"
    }
  },
  "cells": [
    {
      "cell_type": "markdown",
      "metadata": {
        "id": "upgA33i96krb",
        "colab_type": "text"
      },
      "source": [
        "<p align=\"center\">\n",
        "<img src=\"https://github.com/adelnehme/data-upskilling-learning-club-II/blob/master/assets/datacamp_amazon.png?raw=true\" alt = \"DataCamp Amazon icon\" width=\"65%\">\n",
        "</p>\n",
        "\n",
        "\n",
        "## **Data UpSkilling Learning Club: Manipulating Data with Python**\n",
        "\n",
        "\n",
        "#### **Key session takeaways**\n",
        "\n",
        "* Import Excel files into Python using pandas — Python’s most popular data analysis package\n",
        "* Join multiple datasets based on common columns\n",
        "* Clean dataset by replacing missing values, and unifying categorical columns\n",
        "* Aggregate data, extract insights and visualize results\n",
        "\n",
        "<br>\n",
        "\n",
        "#### **The Dataset**\n",
        "\n",
        "The dataset to be used in this webinar is a XLSX file named `sales_performance.xlsx`, which contains 4 sheets:\n",
        "<br>\n",
        "\n",
        "<p align=\"center\">\n",
        "<img src=\"https://github.com/adelnehme/data-upskilling-learning-club-II/blob/master/assets/dataset.png?raw=true\" alt = \"Datasets\" width=\"100%\">\n",
        "</p>\n",
        "\n",
        "<br>\n",
        "\n",
        "#### **Questions to answer**\n",
        "\n",
        "- **Question 1:** How is revenue growth over time?\n",
        "- **Question 2:** How is revenue growth by channel type over time?"
      ]
    },
    {
      "cell_type": "markdown",
      "metadata": {
        "id": "aAVUCIhQnvqx",
        "colab_type": "text"
      },
      "source": [
        "## **Getting started with the dataset**"
      ]
    },
    {
      "cell_type": "markdown",
      "metadata": {
        "id": "5mq4lDtxqLp6",
        "colab_type": "text"
      },
      "source": [
        "<font color=00AAFF> *Python has packages or modules that we download and install that allows to perform a set of tasks. We can also set aliases for these packages to shorten their name and make calling them more convenient.*<font color=00AAFF>\n",
        "\n",
        "\n"
      ]
    },
    {
      "cell_type": "code",
      "metadata": {
        "id": "-d04csgd6i0R",
        "colab_type": "code",
        "colab": {
          "base_uri": "https://localhost:8080/",
          "height": 71
        },
        "outputId": "95650e83-eb5a-4ab0-c8cf-5074111fdb26"
      },
      "source": [
        "# Import relevant packages\n",
        "import pandas as pd\n",
        "import matplotlib.pyplot as plt\n",
        "import seaborn as sns"
      ],
      "execution_count": 1,
      "outputs": [
        {
          "output_type": "stream",
          "text": [
            "/usr/local/lib/python3.6/dist-packages/statsmodels/tools/_testing.py:19: FutureWarning: pandas.util.testing is deprecated. Use the functions in the public API at pandas.testing instead.\n",
            "  import pandas.util.testing as tm\n"
          ],
          "name": "stderr"
        }
      ]
    },
    {
      "cell_type": "markdown",
      "metadata": {
        "id": "GpukuHi6xWlt",
        "colab_type": "text"
      },
      "source": [
        "<font color=00AAFF>*We will use*</font> `pandas` <font color=00AAFF>*(alias as*</font> `pd`<font color=00AAFF>*) to read an excel file using*</font> `data = pd.ExcelFile('path')` \n",
        "\n",
        "<font color=00AAFF>*Check out this [link](https://pandas.pydata.org/pandas-docs/stable/user_guide/io.html) for importing other data types.*<font color=00AAFF>"
      ]
    },
    {
      "cell_type": "code",
      "metadata": {
        "id": "hgWlh8epiOij",
        "colab_type": "code",
        "colab": {}
      },
      "source": [
        "# Import the data\n",
        "data = pd.ExcelFile('https://github.com/adelnehme/data-upskilling-learning-club-II/blob/master/data/sales_performance.xlsx?raw=true')"
      ],
      "execution_count": 2,
      "outputs": []
    },
    {
      "cell_type": "code",
      "metadata": {
        "id": "EMa8uUlAidFk",
        "colab_type": "code",
        "colab": {
          "base_uri": "https://localhost:8080/",
          "height": 34
        },
        "outputId": "670ca769-b104-46e4-b6ca-55a1b8e8fd05"
      },
      "source": [
        "# Print the name of the sheets\n",
        "data.sheet_names"
      ],
      "execution_count": 3,
      "outputs": [
        {
          "output_type": "execute_result",
          "data": {
            "text/plain": [
              "['sales', 'customers', 'dates', 'employees']"
            ]
          },
          "metadata": {
            "tags": []
          },
          "execution_count": 3
        }
      ]
    },
    {
      "cell_type": "code",
      "metadata": {
        "id": "WlG46zdNidzz",
        "colab_type": "code",
        "colab": {
          "base_uri": "https://localhost:8080/",
          "height": 204
        },
        "outputId": "ef38817f-9a5e-4f74-a230-cf817f553aad"
      },
      "source": [
        "# Parse sales data\n",
        "sales = data.parse('sales')\n",
        "# Print the header of sales data\n",
        "sales.head(5)"
      ],
      "execution_count": 4,
      "outputs": [
        {
          "output_type": "execute_result",
          "data": {
            "text/html": [
              "<div>\n",
              "<style scoped>\n",
              "    .dataframe tbody tr th:only-of-type {\n",
              "        vertical-align: middle;\n",
              "    }\n",
              "\n",
              "    .dataframe tbody tr th {\n",
              "        vertical-align: top;\n",
              "    }\n",
              "\n",
              "    .dataframe thead th {\n",
              "        text-align: right;\n",
              "    }\n",
              "</style>\n",
              "<table border=\"1\" class=\"dataframe\">\n",
              "  <thead>\n",
              "    <tr style=\"text-align: right;\">\n",
              "      <th></th>\n",
              "      <th>SalesOrderID</th>\n",
              "      <th>TotalDue</th>\n",
              "      <th>NumberofItems</th>\n",
              "      <th>OnlineOrderFlag</th>\n",
              "      <th>Status</th>\n",
              "    </tr>\n",
              "  </thead>\n",
              "  <tbody>\n",
              "    <tr>\n",
              "      <th>0</th>\n",
              "      <td>43659</td>\n",
              "      <td>23153.2339</td>\n",
              "      <td>12</td>\n",
              "      <td>0</td>\n",
              "      <td>5</td>\n",
              "    </tr>\n",
              "    <tr>\n",
              "      <th>1</th>\n",
              "      <td>43660</td>\n",
              "      <td>1457.3288</td>\n",
              "      <td>2</td>\n",
              "      <td>0</td>\n",
              "      <td>5</td>\n",
              "    </tr>\n",
              "    <tr>\n",
              "      <th>2</th>\n",
              "      <td>43661</td>\n",
              "      <td>36865.8012</td>\n",
              "      <td>15</td>\n",
              "      <td>0</td>\n",
              "      <td>5</td>\n",
              "    </tr>\n",
              "    <tr>\n",
              "      <th>3</th>\n",
              "      <td>43662</td>\n",
              "      <td>32474.9324</td>\n",
              "      <td>22</td>\n",
              "      <td>0</td>\n",
              "      <td>5</td>\n",
              "    </tr>\n",
              "    <tr>\n",
              "      <th>4</th>\n",
              "      <td>43663</td>\n",
              "      <td>472.3108</td>\n",
              "      <td>1</td>\n",
              "      <td>0</td>\n",
              "      <td>5</td>\n",
              "    </tr>\n",
              "  </tbody>\n",
              "</table>\n",
              "</div>"
            ],
            "text/plain": [
              "   SalesOrderID    TotalDue  NumberofItems  OnlineOrderFlag  Status\n",
              "0         43659  23153.2339             12                0       5\n",
              "1         43660   1457.3288              2                0       5\n",
              "2         43661  36865.8012             15                0       5\n",
              "3         43662  32474.9324             22                0       5\n",
              "4         43663    472.3108              1                0       5"
            ]
          },
          "metadata": {
            "tags": []
          },
          "execution_count": 4
        }
      ]
    },
    {
      "cell_type": "code",
      "metadata": {
        "id": "HBJhclwIijLQ",
        "colab_type": "code",
        "colab": {
          "base_uri": "https://localhost:8080/",
          "height": 204
        },
        "outputId": "88dfe443-749e-4919-a593-ece21f02ec84"
      },
      "source": [
        "# Parse customers data \n",
        "customers = data.parse('customers')\n",
        "# Print the header of customers data\n",
        "customers.head(5)"
      ],
      "execution_count": 5,
      "outputs": [
        {
          "output_type": "execute_result",
          "data": {
            "text/html": [
              "<div>\n",
              "<style scoped>\n",
              "    .dataframe tbody tr th:only-of-type {\n",
              "        vertical-align: middle;\n",
              "    }\n",
              "\n",
              "    .dataframe tbody tr th {\n",
              "        vertical-align: top;\n",
              "    }\n",
              "\n",
              "    .dataframe thead th {\n",
              "        text-align: right;\n",
              "    }\n",
              "</style>\n",
              "<table border=\"1\" class=\"dataframe\">\n",
              "  <thead>\n",
              "    <tr style=\"text-align: right;\">\n",
              "      <th></th>\n",
              "      <th>SalesOrderID</th>\n",
              "      <th>CustomerFirstName</th>\n",
              "      <th>CustomerLastName</th>\n",
              "      <th>EmployeeFirstName</th>\n",
              "      <th>EmployeeLastName</th>\n",
              "      <th>ChannelType</th>\n",
              "    </tr>\n",
              "  </thead>\n",
              "  <tbody>\n",
              "    <tr>\n",
              "      <th>0</th>\n",
              "      <td>43659</td>\n",
              "      <td>NaN</td>\n",
              "      <td>NaN</td>\n",
              "      <td>Tsvi</td>\n",
              "      <td>Reiter</td>\n",
              "      <td>NaN</td>\n",
              "    </tr>\n",
              "    <tr>\n",
              "      <th>1</th>\n",
              "      <td>43660</td>\n",
              "      <td>NaN</td>\n",
              "      <td>NaN</td>\n",
              "      <td>Tsvi</td>\n",
              "      <td>Reiter</td>\n",
              "      <td>NaN</td>\n",
              "    </tr>\n",
              "    <tr>\n",
              "      <th>2</th>\n",
              "      <td>43661</td>\n",
              "      <td>NaN</td>\n",
              "      <td>NaN</td>\n",
              "      <td>José</td>\n",
              "      <td>Saraiva</td>\n",
              "      <td>NaN</td>\n",
              "    </tr>\n",
              "    <tr>\n",
              "      <th>3</th>\n",
              "      <td>43662</td>\n",
              "      <td>NaN</td>\n",
              "      <td>NaN</td>\n",
              "      <td>José</td>\n",
              "      <td>Saraiva</td>\n",
              "      <td>NaN</td>\n",
              "    </tr>\n",
              "    <tr>\n",
              "      <th>4</th>\n",
              "      <td>43663</td>\n",
              "      <td>NaN</td>\n",
              "      <td>NaN</td>\n",
              "      <td>Linda</td>\n",
              "      <td>Mitchell</td>\n",
              "      <td>NaN</td>\n",
              "    </tr>\n",
              "  </tbody>\n",
              "</table>\n",
              "</div>"
            ],
            "text/plain": [
              "   SalesOrderID CustomerFirstName  ... EmployeeLastName ChannelType\n",
              "0         43659               NaN  ...           Reiter         NaN\n",
              "1         43660               NaN  ...           Reiter         NaN\n",
              "2         43661               NaN  ...          Saraiva         NaN\n",
              "3         43662               NaN  ...          Saraiva         NaN\n",
              "4         43663               NaN  ...         Mitchell         NaN\n",
              "\n",
              "[5 rows x 6 columns]"
            ]
          },
          "metadata": {
            "tags": []
          },
          "execution_count": 5
        }
      ]
    },
    {
      "cell_type": "markdown",
      "metadata": {
        "id": "WDAKYjP57y5I",
        "colab_type": "text"
      },
      "source": [
        "***Insight 1:*** There is missing data for `CustomerFirstName`, `CustomerLastName`, `EmployeeFirstName`, `EmployeeLastName` and `ChannelType` - we need to better understand the mechanisms of why this data is missing and how to best approach it.\n",
        "\n",
        "***Insight 2:*** Ultimately, we want to evaluate employees by their performance, so might as well combine first name and last name columns into their full name before doing any analysis."
      ]
    },
    {
      "cell_type": "code",
      "metadata": {
        "id": "eLRqU9yVj8lk",
        "colab_type": "code",
        "colab": {
          "base_uri": "https://localhost:8080/",
          "height": 204
        },
        "outputId": "e18e7acb-934c-41f8-ef94-c4d55f543921"
      },
      "source": [
        "# Parse dates data\n",
        "dates = data.parse('dates')\n",
        "# Print the header of dates data\n",
        "dates.head(5)"
      ],
      "execution_count": 6,
      "outputs": [
        {
          "output_type": "execute_result",
          "data": {
            "text/html": [
              "<div>\n",
              "<style scoped>\n",
              "    .dataframe tbody tr th:only-of-type {\n",
              "        vertical-align: middle;\n",
              "    }\n",
              "\n",
              "    .dataframe tbody tr th {\n",
              "        vertical-align: top;\n",
              "    }\n",
              "\n",
              "    .dataframe thead th {\n",
              "        text-align: right;\n",
              "    }\n",
              "</style>\n",
              "<table border=\"1\" class=\"dataframe\">\n",
              "  <thead>\n",
              "    <tr style=\"text-align: right;\">\n",
              "      <th></th>\n",
              "      <th>SalesOrderID</th>\n",
              "      <th>OrderDate</th>\n",
              "      <th>ShipDate</th>\n",
              "    </tr>\n",
              "  </thead>\n",
              "  <tbody>\n",
              "    <tr>\n",
              "      <th>0</th>\n",
              "      <td>43659</td>\n",
              "      <td>2011-05-31 00:00:00</td>\n",
              "      <td>2011-06-07 00:00:00</td>\n",
              "    </tr>\n",
              "    <tr>\n",
              "      <th>1</th>\n",
              "      <td>43660</td>\n",
              "      <td>2011-05-31 00:00:00</td>\n",
              "      <td>2011-06-07 00:00:00</td>\n",
              "    </tr>\n",
              "    <tr>\n",
              "      <th>2</th>\n",
              "      <td>43661</td>\n",
              "      <td>2011-05-31 00:00:00</td>\n",
              "      <td>2011-06-07 00:00:00</td>\n",
              "    </tr>\n",
              "    <tr>\n",
              "      <th>3</th>\n",
              "      <td>43662</td>\n",
              "      <td>2011-05-31 00:00:00</td>\n",
              "      <td>2011-06-07 00:00:00</td>\n",
              "    </tr>\n",
              "    <tr>\n",
              "      <th>4</th>\n",
              "      <td>43663</td>\n",
              "      <td>2011-05-31 00:00:00</td>\n",
              "      <td>2011-06-07 00:00:00</td>\n",
              "    </tr>\n",
              "  </tbody>\n",
              "</table>\n",
              "</div>"
            ],
            "text/plain": [
              "   SalesOrderID            OrderDate             ShipDate\n",
              "0         43659  2011-05-31 00:00:00  2011-06-07 00:00:00\n",
              "1         43660  2011-05-31 00:00:00  2011-06-07 00:00:00\n",
              "2         43661  2011-05-31 00:00:00  2011-06-07 00:00:00\n",
              "3         43662  2011-05-31 00:00:00  2011-06-07 00:00:00\n",
              "4         43663  2011-05-31 00:00:00  2011-06-07 00:00:00"
            ]
          },
          "metadata": {
            "tags": []
          },
          "execution_count": 6
        }
      ]
    },
    {
      "cell_type": "markdown",
      "metadata": {
        "id": "1dZ0S4SnQeb_",
        "colab_type": "text"
      },
      "source": [
        "***Insight 3:*** When looking at date variables in Python and in pandas DataFrames - it's always good to remember the `datetime` data type that allows better manipulation of date variables."
      ]
    },
    {
      "cell_type": "code",
      "metadata": {
        "id": "dzdHh12loRMq",
        "colab_type": "code",
        "colab": {
          "base_uri": "https://localhost:8080/",
          "height": 204
        },
        "outputId": "374683cf-2132-4fc1-8a2d-2ff62d590e9c"
      },
      "source": [
        "# Parse employees data\n",
        "employees = data.parse('employees')\n",
        "# Print the header of employees data\n",
        "employees.head(5)"
      ],
      "execution_count": 7,
      "outputs": [
        {
          "output_type": "execute_result",
          "data": {
            "text/html": [
              "<div>\n",
              "<style scoped>\n",
              "    .dataframe tbody tr th:only-of-type {\n",
              "        vertical-align: middle;\n",
              "    }\n",
              "\n",
              "    .dataframe tbody tr th {\n",
              "        vertical-align: top;\n",
              "    }\n",
              "\n",
              "    .dataframe thead th {\n",
              "        text-align: right;\n",
              "    }\n",
              "</style>\n",
              "<table border=\"1\" class=\"dataframe\">\n",
              "  <thead>\n",
              "    <tr style=\"text-align: right;\">\n",
              "      <th></th>\n",
              "      <th>FirstName</th>\n",
              "      <th>LastName</th>\n",
              "      <th>CountryCode</th>\n",
              "      <th>RegionName</th>\n",
              "      <th>CommissionPct</th>\n",
              "    </tr>\n",
              "  </thead>\n",
              "  <tbody>\n",
              "    <tr>\n",
              "      <th>0</th>\n",
              "      <td>Amy</td>\n",
              "      <td>Alberts</td>\n",
              "      <td>GB</td>\n",
              "      <td>United Kingdom</td>\n",
              "      <td>0.000</td>\n",
              "    </tr>\n",
              "    <tr>\n",
              "      <th>1</th>\n",
              "      <td>David</td>\n",
              "      <td>Campbell</td>\n",
              "      <td>US</td>\n",
              "      <td>Northwest</td>\n",
              "      <td>0.012</td>\n",
              "    </tr>\n",
              "    <tr>\n",
              "      <th>2</th>\n",
              "      <td>Garrett</td>\n",
              "      <td>Vargas</td>\n",
              "      <td>CA</td>\n",
              "      <td>Canada</td>\n",
              "      <td>0.010</td>\n",
              "    </tr>\n",
              "    <tr>\n",
              "      <th>3</th>\n",
              "      <td>Jae</td>\n",
              "      <td>Pak</td>\n",
              "      <td>CA</td>\n",
              "      <td>Canada</td>\n",
              "      <td>0.020</td>\n",
              "    </tr>\n",
              "    <tr>\n",
              "      <th>4</th>\n",
              "      <td>Jillian</td>\n",
              "      <td>Carson</td>\n",
              "      <td>US</td>\n",
              "      <td>Southwest</td>\n",
              "      <td>0.015</td>\n",
              "    </tr>\n",
              "  </tbody>\n",
              "</table>\n",
              "</div>"
            ],
            "text/plain": [
              "  FirstName  LastName CountryCode      RegionName  CommissionPct\n",
              "0       Amy   Alberts          GB  United Kingdom          0.000\n",
              "1     David  Campbell          US       Northwest          0.012\n",
              "2   Garrett    Vargas          CA          Canada          0.010\n",
              "3       Jae       Pak          CA          Canada          0.020\n",
              "4   Jillian    Carson          US       Southwest          0.015"
            ]
          },
          "metadata": {
            "tags": []
          },
          "execution_count": 7
        }
      ]
    },
    {
      "cell_type": "markdown",
      "metadata": {
        "id": "tA-yPFUo2wd8",
        "colab_type": "text"
      },
      "source": [
        "<font color=00AAFF>*Some important and common methods needed to get a better understanding of DataFrames are the following:*<font color=00AAFF> \n",
        "\n",
        "- `.info()` <font color=00AAFF>*provides a bird's eye view of column data types and missing values*</font>\n",
        "- `.describe()` <font color=00AAFF>*returns a distribution of numeric columns in your DataFrame*</font>"
      ]
    },
    {
      "cell_type": "code",
      "metadata": {
        "id": "yyhXh1iL4IsA",
        "colab_type": "code",
        "colab": {
          "base_uri": "https://localhost:8080/",
          "height": 221
        },
        "outputId": "9293fc27-b18b-4a19-b9a8-a7cdbb9a2929"
      },
      "source": [
        "# Understand missingness of sales data\n",
        "sales.info()"
      ],
      "execution_count": null,
      "outputs": [
        {
          "output_type": "stream",
          "text": [
            "<class 'pandas.core.frame.DataFrame'>\n",
            "RangeIndex: 31465 entries, 0 to 31464\n",
            "Data columns (total 5 columns):\n",
            " #   Column           Non-Null Count  Dtype  \n",
            "---  ------           --------------  -----  \n",
            " 0   SalesOrderID     31465 non-null  int64  \n",
            " 1   TotalDue         31465 non-null  float64\n",
            " 2   NumberofItems    31465 non-null  int64  \n",
            " 3   OnlineOrderFlag  31465 non-null  int64  \n",
            " 4   Status           31465 non-null  int64  \n",
            "dtypes: float64(1), int64(4)\n",
            "memory usage: 1.2 MB\n"
          ],
          "name": "stdout"
        }
      ]
    },
    {
      "cell_type": "code",
      "metadata": {
        "id": "YtPmjfN54KsL",
        "colab_type": "code",
        "colab": {
          "base_uri": "https://localhost:8080/",
          "height": 297
        },
        "outputId": "15383f2c-7fcb-40e7-9874-fb925c233591"
      },
      "source": [
        "# Understand distribution of sales data\n",
        "sales.describe()"
      ],
      "execution_count": null,
      "outputs": [
        {
          "output_type": "execute_result",
          "data": {
            "text/html": [
              "<div>\n",
              "<style scoped>\n",
              "    .dataframe tbody tr th:only-of-type {\n",
              "        vertical-align: middle;\n",
              "    }\n",
              "\n",
              "    .dataframe tbody tr th {\n",
              "        vertical-align: top;\n",
              "    }\n",
              "\n",
              "    .dataframe thead th {\n",
              "        text-align: right;\n",
              "    }\n",
              "</style>\n",
              "<table border=\"1\" class=\"dataframe\">\n",
              "  <thead>\n",
              "    <tr style=\"text-align: right;\">\n",
              "      <th></th>\n",
              "      <th>SalesOrderID</th>\n",
              "      <th>TotalDue</th>\n",
              "      <th>NumberofItems</th>\n",
              "      <th>OnlineOrderFlag</th>\n",
              "      <th>Status</th>\n",
              "    </tr>\n",
              "  </thead>\n",
              "  <tbody>\n",
              "    <tr>\n",
              "      <th>count</th>\n",
              "      <td>31465.000000</td>\n",
              "      <td>31465.000000</td>\n",
              "      <td>31465.000000</td>\n",
              "      <td>31465.000000</td>\n",
              "      <td>31465.0</td>\n",
              "    </tr>\n",
              "    <tr>\n",
              "      <th>mean</th>\n",
              "      <td>59391.000000</td>\n",
              "      <td>3915.995109</td>\n",
              "      <td>3.855617</td>\n",
              "      <td>0.879040</td>\n",
              "      <td>5.0</td>\n",
              "    </tr>\n",
              "    <tr>\n",
              "      <th>std</th>\n",
              "      <td>9083.307446</td>\n",
              "      <td>12515.462713</td>\n",
              "      <td>7.214877</td>\n",
              "      <td>0.326086</td>\n",
              "      <td>0.0</td>\n",
              "    </tr>\n",
              "    <tr>\n",
              "      <th>min</th>\n",
              "      <td>43659.000000</td>\n",
              "      <td>1.518300</td>\n",
              "      <td>1.000000</td>\n",
              "      <td>0.000000</td>\n",
              "      <td>5.0</td>\n",
              "    </tr>\n",
              "    <tr>\n",
              "      <th>25%</th>\n",
              "      <td>51525.000000</td>\n",
              "      <td>62.951900</td>\n",
              "      <td>1.000000</td>\n",
              "      <td>1.000000</td>\n",
              "      <td>5.0</td>\n",
              "    </tr>\n",
              "    <tr>\n",
              "      <th>50%</th>\n",
              "      <td>59391.000000</td>\n",
              "      <td>865.204000</td>\n",
              "      <td>2.000000</td>\n",
              "      <td>1.000000</td>\n",
              "      <td>5.0</td>\n",
              "    </tr>\n",
              "    <tr>\n",
              "      <th>75%</th>\n",
              "      <td>67257.000000</td>\n",
              "      <td>2615.490800</td>\n",
              "      <td>3.000000</td>\n",
              "      <td>1.000000</td>\n",
              "      <td>5.0</td>\n",
              "    </tr>\n",
              "    <tr>\n",
              "      <th>max</th>\n",
              "      <td>75123.000000</td>\n",
              "      <td>187487.825000</td>\n",
              "      <td>72.000000</td>\n",
              "      <td>1.000000</td>\n",
              "      <td>5.0</td>\n",
              "    </tr>\n",
              "  </tbody>\n",
              "</table>\n",
              "</div>"
            ],
            "text/plain": [
              "       SalesOrderID       TotalDue  NumberofItems  OnlineOrderFlag   Status\n",
              "count  31465.000000   31465.000000   31465.000000     31465.000000  31465.0\n",
              "mean   59391.000000    3915.995109       3.855617         0.879040      5.0\n",
              "std     9083.307446   12515.462713       7.214877         0.326086      0.0\n",
              "min    43659.000000       1.518300       1.000000         0.000000      5.0\n",
              "25%    51525.000000      62.951900       1.000000         1.000000      5.0\n",
              "50%    59391.000000     865.204000       2.000000         1.000000      5.0\n",
              "75%    67257.000000    2615.490800       3.000000         1.000000      5.0\n",
              "max    75123.000000  187487.825000      72.000000         1.000000      5.0"
            ]
          },
          "metadata": {
            "tags": []
          },
          "execution_count": 23
        }
      ]
    },
    {
      "cell_type": "code",
      "metadata": {
        "id": "4LXx9pOH4Lem",
        "colab_type": "code",
        "colab": {
          "base_uri": "https://localhost:8080/",
          "height": 187
        },
        "outputId": "47262875-ea04-4032-e754-6e256cad0aaa"
      },
      "source": [
        "# Understand column types of dates and missingness\n",
        "dates.info()"
      ],
      "execution_count": null,
      "outputs": [
        {
          "output_type": "stream",
          "text": [
            "<class 'pandas.core.frame.DataFrame'>\n",
            "RangeIndex: 31465 entries, 0 to 31464\n",
            "Data columns (total 3 columns):\n",
            " #   Column        Non-Null Count  Dtype \n",
            "---  ------        --------------  ----- \n",
            " 0   SalesOrderID  31465 non-null  int64 \n",
            " 1   OrderDate     31465 non-null  object\n",
            " 2   ShipDate      31465 non-null  object\n",
            "dtypes: int64(1), object(2)\n",
            "memory usage: 737.6+ KB\n"
          ],
          "name": "stdout"
        }
      ]
    },
    {
      "cell_type": "markdown",
      "metadata": {
        "id": "92Ml8uOYFpzP",
        "colab_type": "text"
      },
      "source": [
        "***Insight 3:*** It's best to convert the `OrderDate` and `ShipDate` columns to `datetime`"
      ]
    },
    {
      "cell_type": "code",
      "metadata": {
        "id": "Di0X2oT04Lcd",
        "colab_type": "code",
        "colab": {
          "base_uri": "https://localhost:8080/",
          "height": 238
        },
        "outputId": "4940593e-fe5d-458c-acae-48f7f2e2dfbc"
      },
      "source": [
        "# Let's understand the degree of missingness in customers dataset\n",
        "customers.info()"
      ],
      "execution_count": null,
      "outputs": [
        {
          "output_type": "stream",
          "text": [
            "<class 'pandas.core.frame.DataFrame'>\n",
            "RangeIndex: 31465 entries, 0 to 31464\n",
            "Data columns (total 6 columns):\n",
            " #   Column             Non-Null Count  Dtype \n",
            "---  ------             --------------  ----- \n",
            " 0   SalesOrderID       31465 non-null  int64 \n",
            " 1   CustomerFirstName  17463 non-null  object\n",
            " 2   CustomerLastName   17463 non-null  object\n",
            " 3   EmployeeFirstName  3806 non-null   object\n",
            " 4   EmployeeLastName   3806 non-null   object\n",
            " 5   ChannelType        17463 non-null  object\n",
            "dtypes: int64(1), object(5)\n",
            "memory usage: 1.4+ MB\n"
          ],
          "name": "stdout"
        }
      ]
    },
    {
      "cell_type": "code",
      "metadata": {
        "id": "RPAMIxLxS7aO",
        "colab_type": "code",
        "colab": {
          "base_uri": "https://localhost:8080/",
          "height": 136
        },
        "outputId": "c4d179b4-8fe4-4a8d-f512-c070822e859f"
      },
      "source": [
        "# How to find missing values?\n",
        "customers.isna().sum()"
      ],
      "execution_count": null,
      "outputs": [
        {
          "output_type": "execute_result",
          "data": {
            "text/plain": [
              "SalesOrderID             0\n",
              "CustomerFirstName    14002\n",
              "CustomerLastName     14002\n",
              "EmployeeFirstName    27659\n",
              "EmployeeLastName     27659\n",
              "ChannelType          14002\n",
              "dtype: int64"
            ]
          },
          "metadata": {
            "tags": []
          },
          "execution_count": 26
        }
      ]
    },
    {
      "cell_type": "markdown",
      "metadata": {
        "id": "9fE9EdgyByp8",
        "colab_type": "text"
      },
      "source": [
        "***Insight 4:*** We notice that both customer, employee names and channel type contain missing data. Data can be missing for a variety of reasons, ranging from random to non-random causes. As such, treating missing data is highly case dependent with solutions ranging from:\n",
        "* Dropping missing data\n",
        "* Imputing with statistical measures such as mean, median and mode\n",
        "* Algorithmic imputations relying on machine learning \n",
        "* Imputation using rules that fit the business case\n",
        "\n",
        "In this case, the customer name is not present for B2B purchases by design - and that B2C purchases don't have employees attached to them also by design - meaning from these rules we can impute the `ChannelType` variable.\n",
        "\n",
        "<br>\n",
        "\n",
        "---\n",
        "<center><h1> Q&A 1</h1> </center>\n",
        "\n",
        "---"
      ]
    },
    {
      "cell_type": "markdown",
      "metadata": {
        "id": "W23hMUxKErvf",
        "colab_type": "text"
      },
      "source": [
        "## **Data Cleaning**\n"
      ]
    },
    {
      "cell_type": "markdown",
      "metadata": {
        "id": "VcDbgDhcJXAL",
        "colab_type": "text"
      },
      "source": [
        "**1. Convert date columns to**`datetime` **in** `dates` **DataFrame**"
      ]
    },
    {
      "cell_type": "markdown",
      "metadata": {
        "id": "41VeKgyMHfV7",
        "colab_type": "text"
      },
      "source": [
        "<font color=00AAFF>*To convert a date column to*</font> `datetime` <font color=00AAFF>*— we can use the* </font> `pd.to_datetime()` <font color=00AAFF>*function which takes in the following arguments:* </font>\n",
        "\n",
        "- <font color=00AAFF>*The column being converted*</font>\n",
        "- `format`: <font color=00AAFF>*takes in a date format (e.g.*</font>`'%Y-%m-%d'`<font color=00AAFF>*) — list of datetime formats can be found [here](https://docs.python.org/3/library/datetime.html#strftime-and-strptime-behavior).*</font>"
      ]
    },
    {
      "cell_type": "code",
      "metadata": {
        "id": "SjRVVWDk4LWI",
        "colab_type": "code",
        "colab": {}
      },
      "source": [
        "# Convert data columns to datetime while keeping only Y,m,d\n",
        "dates['OrderDate']= pd.to_datetime(dates['OrderDate'], format = '%Y-%m-%d') \n",
        "dates['ShipDate']= pd.to_datetime(dates['ShipDate'], format = '%Y-%m-%d') "
      ],
      "execution_count": 8,
      "outputs": []
    },
    {
      "cell_type": "code",
      "metadata": {
        "id": "LXUpSdHX4LSq",
        "colab_type": "code",
        "colab": {}
      },
      "source": [
        "# Make sure now into datetime\n",
        "dates.info()"
      ],
      "execution_count": null,
      "outputs": []
    },
    {
      "cell_type": "markdown",
      "metadata": {
        "id": "NuDq01QcJi2w",
        "colab_type": "text"
      },
      "source": [
        "**2. Unify first and last names in** `customers` **and** `employees` **DataFrames**"
      ]
    },
    {
      "cell_type": "code",
      "metadata": {
        "id": "x2eFUnapJoym",
        "colab_type": "code",
        "colab": {
          "base_uri": "https://localhost:8080/",
          "height": 204
        },
        "outputId": "b5e1fdbb-a38b-4e77-c6f8-be520dba7f09"
      },
      "source": [
        "# Combine first and last name in customers\n",
        "customers['EmployeeFullName'] = customers['EmployeeFirstName'] + ' ' + customers['EmployeeLastName']\n",
        "customers.head()"
      ],
      "execution_count": 9,
      "outputs": [
        {
          "output_type": "execute_result",
          "data": {
            "text/html": [
              "<div>\n",
              "<style scoped>\n",
              "    .dataframe tbody tr th:only-of-type {\n",
              "        vertical-align: middle;\n",
              "    }\n",
              "\n",
              "    .dataframe tbody tr th {\n",
              "        vertical-align: top;\n",
              "    }\n",
              "\n",
              "    .dataframe thead th {\n",
              "        text-align: right;\n",
              "    }\n",
              "</style>\n",
              "<table border=\"1\" class=\"dataframe\">\n",
              "  <thead>\n",
              "    <tr style=\"text-align: right;\">\n",
              "      <th></th>\n",
              "      <th>SalesOrderID</th>\n",
              "      <th>CustomerFirstName</th>\n",
              "      <th>CustomerLastName</th>\n",
              "      <th>EmployeeFirstName</th>\n",
              "      <th>EmployeeLastName</th>\n",
              "      <th>ChannelType</th>\n",
              "      <th>EmployeeFullName</th>\n",
              "    </tr>\n",
              "  </thead>\n",
              "  <tbody>\n",
              "    <tr>\n",
              "      <th>0</th>\n",
              "      <td>43659</td>\n",
              "      <td>NaN</td>\n",
              "      <td>NaN</td>\n",
              "      <td>Tsvi</td>\n",
              "      <td>Reiter</td>\n",
              "      <td>NaN</td>\n",
              "      <td>Tsvi Reiter</td>\n",
              "    </tr>\n",
              "    <tr>\n",
              "      <th>1</th>\n",
              "      <td>43660</td>\n",
              "      <td>NaN</td>\n",
              "      <td>NaN</td>\n",
              "      <td>Tsvi</td>\n",
              "      <td>Reiter</td>\n",
              "      <td>NaN</td>\n",
              "      <td>Tsvi Reiter</td>\n",
              "    </tr>\n",
              "    <tr>\n",
              "      <th>2</th>\n",
              "      <td>43661</td>\n",
              "      <td>NaN</td>\n",
              "      <td>NaN</td>\n",
              "      <td>José</td>\n",
              "      <td>Saraiva</td>\n",
              "      <td>NaN</td>\n",
              "      <td>José Saraiva</td>\n",
              "    </tr>\n",
              "    <tr>\n",
              "      <th>3</th>\n",
              "      <td>43662</td>\n",
              "      <td>NaN</td>\n",
              "      <td>NaN</td>\n",
              "      <td>José</td>\n",
              "      <td>Saraiva</td>\n",
              "      <td>NaN</td>\n",
              "      <td>José Saraiva</td>\n",
              "    </tr>\n",
              "    <tr>\n",
              "      <th>4</th>\n",
              "      <td>43663</td>\n",
              "      <td>NaN</td>\n",
              "      <td>NaN</td>\n",
              "      <td>Linda</td>\n",
              "      <td>Mitchell</td>\n",
              "      <td>NaN</td>\n",
              "      <td>Linda Mitchell</td>\n",
              "    </tr>\n",
              "  </tbody>\n",
              "</table>\n",
              "</div>"
            ],
            "text/plain": [
              "   SalesOrderID CustomerFirstName  ... ChannelType EmployeeFullName\n",
              "0         43659               NaN  ...         NaN      Tsvi Reiter\n",
              "1         43660               NaN  ...         NaN      Tsvi Reiter\n",
              "2         43661               NaN  ...         NaN     José Saraiva\n",
              "3         43662               NaN  ...         NaN     José Saraiva\n",
              "4         43663               NaN  ...         NaN   Linda Mitchell\n",
              "\n",
              "[5 rows x 7 columns]"
            ]
          },
          "metadata": {
            "tags": []
          },
          "execution_count": 9
        }
      ]
    },
    {
      "cell_type": "code",
      "metadata": {
        "id": "aOag7FlkJpxa",
        "colab_type": "code",
        "colab": {
          "base_uri": "https://localhost:8080/",
          "height": 204
        },
        "outputId": "82f85b75-bbf7-44d5-d16c-e92b8ba12bdc"
      },
      "source": [
        "# Combine first and last name in employees\n",
        "employees['FullName'] = employees['FirstName'] + ' ' + employees['LastName']\n",
        "employees.head()"
      ],
      "execution_count": 10,
      "outputs": [
        {
          "output_type": "execute_result",
          "data": {
            "text/html": [
              "<div>\n",
              "<style scoped>\n",
              "    .dataframe tbody tr th:only-of-type {\n",
              "        vertical-align: middle;\n",
              "    }\n",
              "\n",
              "    .dataframe tbody tr th {\n",
              "        vertical-align: top;\n",
              "    }\n",
              "\n",
              "    .dataframe thead th {\n",
              "        text-align: right;\n",
              "    }\n",
              "</style>\n",
              "<table border=\"1\" class=\"dataframe\">\n",
              "  <thead>\n",
              "    <tr style=\"text-align: right;\">\n",
              "      <th></th>\n",
              "      <th>FirstName</th>\n",
              "      <th>LastName</th>\n",
              "      <th>CountryCode</th>\n",
              "      <th>RegionName</th>\n",
              "      <th>CommissionPct</th>\n",
              "      <th>FullName</th>\n",
              "    </tr>\n",
              "  </thead>\n",
              "  <tbody>\n",
              "    <tr>\n",
              "      <th>0</th>\n",
              "      <td>Amy</td>\n",
              "      <td>Alberts</td>\n",
              "      <td>GB</td>\n",
              "      <td>United Kingdom</td>\n",
              "      <td>0.000</td>\n",
              "      <td>Amy Alberts</td>\n",
              "    </tr>\n",
              "    <tr>\n",
              "      <th>1</th>\n",
              "      <td>David</td>\n",
              "      <td>Campbell</td>\n",
              "      <td>US</td>\n",
              "      <td>Northwest</td>\n",
              "      <td>0.012</td>\n",
              "      <td>David Campbell</td>\n",
              "    </tr>\n",
              "    <tr>\n",
              "      <th>2</th>\n",
              "      <td>Garrett</td>\n",
              "      <td>Vargas</td>\n",
              "      <td>CA</td>\n",
              "      <td>Canada</td>\n",
              "      <td>0.010</td>\n",
              "      <td>Garrett Vargas</td>\n",
              "    </tr>\n",
              "    <tr>\n",
              "      <th>3</th>\n",
              "      <td>Jae</td>\n",
              "      <td>Pak</td>\n",
              "      <td>CA</td>\n",
              "      <td>Canada</td>\n",
              "      <td>0.020</td>\n",
              "      <td>Jae Pak</td>\n",
              "    </tr>\n",
              "    <tr>\n",
              "      <th>4</th>\n",
              "      <td>Jillian</td>\n",
              "      <td>Carson</td>\n",
              "      <td>US</td>\n",
              "      <td>Southwest</td>\n",
              "      <td>0.015</td>\n",
              "      <td>Jillian Carson</td>\n",
              "    </tr>\n",
              "  </tbody>\n",
              "</table>\n",
              "</div>"
            ],
            "text/plain": [
              "  FirstName  LastName  ... CommissionPct        FullName\n",
              "0       Amy   Alberts  ...         0.000     Amy Alberts\n",
              "1     David  Campbell  ...         0.012  David Campbell\n",
              "2   Garrett    Vargas  ...         0.010  Garrett Vargas\n",
              "3       Jae       Pak  ...         0.020         Jae Pak\n",
              "4   Jillian    Carson  ...         0.015  Jillian Carson\n",
              "\n",
              "[5 rows x 6 columns]"
            ]
          },
          "metadata": {
            "tags": []
          },
          "execution_count": 10
        }
      ]
    },
    {
      "cell_type": "markdown",
      "metadata": {
        "id": "PCD0XmloJuNi",
        "colab_type": "text"
      },
      "source": [
        "**3. Impute missing values in** `ChannelType` **column in the** `customers` **DataFrame** "
      ]
    },
    {
      "cell_type": "markdown",
      "metadata": {
        "id": "IcX43IASVbyt",
        "colab_type": "text"
      },
      "source": [
        "***Insight 4*** taught us that missing data can be found for a variety of reasons, and that imputing them can be done in many ways, including creating rules that fit the business case behind the data and require some domain-knowledge. The `ChannelType` column has been imputed to reflect:\n",
        "\n",
        "- If `EmployeeFirstName` missing $\\rightarrow$ B2C purchase\n",
        "- If `EmployeeFirstName` not missing $\\rightarrow$ B2B purchase "
      ]
    },
    {
      "cell_type": "markdown",
      "metadata": {
        "id": "HtZz5VeGKJO3",
        "colab_type": "text"
      },
      "source": [
        "<font color=00AAFF> *The* </font> `.loc[]` <font color=00AAFF> *operator allows to subset DataFrames based on a subset of rows and column name*</font> "
      ]
    },
    {
      "cell_type": "code",
      "metadata": {
        "id": "u1ND9J_54LNq",
        "colab_type": "code",
        "colab": {}
      },
      "source": [
        "# Impute missing values based on key business assumptions\n",
        "customers.loc[customers['EmployeeFirstName'].isnull(), 'ChannelType'] = \"B2C\"\n",
        "customers.loc[customers['EmployeeFirstName'].notnull(), 'ChannelType'] = \"B2B\""
      ],
      "execution_count": 11,
      "outputs": []
    },
    {
      "cell_type": "code",
      "metadata": {
        "id": "3KxSjVAU4LLF",
        "colab_type": "code",
        "colab": {
          "base_uri": "https://localhost:8080/",
          "height": 255
        },
        "outputId": "665e4f9d-64ea-4047-a2c6-4125eb3097ef"
      },
      "source": [
        "# Make sure no more missing data in ChannelType\n",
        "customers.info()"
      ],
      "execution_count": 12,
      "outputs": [
        {
          "output_type": "stream",
          "text": [
            "<class 'pandas.core.frame.DataFrame'>\n",
            "RangeIndex: 31465 entries, 0 to 31464\n",
            "Data columns (total 7 columns):\n",
            " #   Column             Non-Null Count  Dtype \n",
            "---  ------             --------------  ----- \n",
            " 0   SalesOrderID       31465 non-null  int64 \n",
            " 1   CustomerFirstName  17463 non-null  object\n",
            " 2   CustomerLastName   17463 non-null  object\n",
            " 3   EmployeeFirstName  3806 non-null   object\n",
            " 4   EmployeeLastName   3806 non-null   object\n",
            " 5   ChannelType        31465 non-null  object\n",
            " 6   EmployeeFullName   3806 non-null   object\n",
            "dtypes: int64(1), object(6)\n",
            "memory usage: 1.7+ MB\n"
          ],
          "name": "stdout"
        }
      ]
    },
    {
      "cell_type": "markdown",
      "metadata": {
        "id": "AOuJPAJO5N1t",
        "colab_type": "text"
      },
      "source": [
        "---\n",
        "<center><h1> Q&A 2</h1> </center>\n",
        "\n",
        "---"
      ]
    },
    {
      "cell_type": "markdown",
      "metadata": {
        "id": "GDQpEkCImzL9",
        "colab_type": "text"
      },
      "source": [
        "## **Q1: How did we do in revenue over the years?**"
      ]
    },
    {
      "cell_type": "markdown",
      "metadata": {
        "id": "mfBFUvPQXZyZ",
        "colab_type": "text"
      },
      "source": [
        "<font color=00AAFF> *Since we have revenue data for each* </font> `SalesOrderID` <font color=00AAFF> *in the* </font> `sales` <font color=00AAFF> *sheet - and the order date and ship date for each* </font> `SalesOrderID` <font color=00AAFF> *in the* </font> `dates` <font color=00AAFF> *sheet - we want to combine both DataFrames similar to how a VLOOKUP would work.* </font> \n",
        "\n",
        "<br>\n",
        "\n",
        "<p align=\"center\">\n",
        "<img src=\"https://github.com/adelnehme/data-upskilling-learning-club-II/blob/master/assets/pivots.png?raw=True\" alt = \"pivot\" width=\"70%\">\n",
        "</p>\n",
        "\n",
        "<br><br>\n",
        "\n",
        "<font color=00AAFF> *In more technical terms, we want to perform of left join of both DataFrames where* </font> `SalesOrderId` <font color=00AAFF> *is a common column between them.* </font>\n",
        "\n",
        "\n",
        "<p align=\"center\">\n",
        "<img src=\"https://github.com/adelnehme/data-upskilling-learning-club-II/blob/master/assets/left_join.png?raw=True\" alt = \"DataCamp icon\" width=\"50%\">\n",
        "</p>\n",
        "\n",
        "\n",
        "\n",
        "\n",
        "\n",
        "<font color=00AAFF> *We can left-join two DataFrames using the* </font> `.merge()` <font color=00AAFF> *method* </font>\n",
        "\n",
        "```\n",
        "merged_dataframe = df_1.merge(df_2, on = 'common_column', how = 'left')\n",
        "```\n"
      ]
    },
    {
      "cell_type": "code",
      "metadata": {
        "id": "GdhvX_CB4LF5",
        "colab_type": "code",
        "colab": {
          "base_uri": "https://localhost:8080/",
          "height": 204
        },
        "outputId": "ceee9f52-a556-4ae9-88a2-38e8c0949a7d"
      },
      "source": [
        "# Left join sales and dates\n",
        "sales_date = sales.merge(dates, on=\"SalesOrderID\", how = \"left\")\n",
        "sales_date.head()"
      ],
      "execution_count": 13,
      "outputs": [
        {
          "output_type": "execute_result",
          "data": {
            "text/html": [
              "<div>\n",
              "<style scoped>\n",
              "    .dataframe tbody tr th:only-of-type {\n",
              "        vertical-align: middle;\n",
              "    }\n",
              "\n",
              "    .dataframe tbody tr th {\n",
              "        vertical-align: top;\n",
              "    }\n",
              "\n",
              "    .dataframe thead th {\n",
              "        text-align: right;\n",
              "    }\n",
              "</style>\n",
              "<table border=\"1\" class=\"dataframe\">\n",
              "  <thead>\n",
              "    <tr style=\"text-align: right;\">\n",
              "      <th></th>\n",
              "      <th>SalesOrderID</th>\n",
              "      <th>TotalDue</th>\n",
              "      <th>NumberofItems</th>\n",
              "      <th>OnlineOrderFlag</th>\n",
              "      <th>Status</th>\n",
              "      <th>OrderDate</th>\n",
              "      <th>ShipDate</th>\n",
              "    </tr>\n",
              "  </thead>\n",
              "  <tbody>\n",
              "    <tr>\n",
              "      <th>0</th>\n",
              "      <td>43659</td>\n",
              "      <td>23153.2339</td>\n",
              "      <td>12</td>\n",
              "      <td>0</td>\n",
              "      <td>5</td>\n",
              "      <td>2011-05-31</td>\n",
              "      <td>2011-06-07</td>\n",
              "    </tr>\n",
              "    <tr>\n",
              "      <th>1</th>\n",
              "      <td>43660</td>\n",
              "      <td>1457.3288</td>\n",
              "      <td>2</td>\n",
              "      <td>0</td>\n",
              "      <td>5</td>\n",
              "      <td>2011-05-31</td>\n",
              "      <td>2011-06-07</td>\n",
              "    </tr>\n",
              "    <tr>\n",
              "      <th>2</th>\n",
              "      <td>43661</td>\n",
              "      <td>36865.8012</td>\n",
              "      <td>15</td>\n",
              "      <td>0</td>\n",
              "      <td>5</td>\n",
              "      <td>2011-05-31</td>\n",
              "      <td>2011-06-07</td>\n",
              "    </tr>\n",
              "    <tr>\n",
              "      <th>3</th>\n",
              "      <td>43662</td>\n",
              "      <td>32474.9324</td>\n",
              "      <td>22</td>\n",
              "      <td>0</td>\n",
              "      <td>5</td>\n",
              "      <td>2011-05-31</td>\n",
              "      <td>2011-06-07</td>\n",
              "    </tr>\n",
              "    <tr>\n",
              "      <th>4</th>\n",
              "      <td>43663</td>\n",
              "      <td>472.3108</td>\n",
              "      <td>1</td>\n",
              "      <td>0</td>\n",
              "      <td>5</td>\n",
              "      <td>2011-05-31</td>\n",
              "      <td>2011-06-07</td>\n",
              "    </tr>\n",
              "  </tbody>\n",
              "</table>\n",
              "</div>"
            ],
            "text/plain": [
              "   SalesOrderID    TotalDue  NumberofItems  ...  Status  OrderDate   ShipDate\n",
              "0         43659  23153.2339             12  ...       5 2011-05-31 2011-06-07\n",
              "1         43660   1457.3288              2  ...       5 2011-05-31 2011-06-07\n",
              "2         43661  36865.8012             15  ...       5 2011-05-31 2011-06-07\n",
              "3         43662  32474.9324             22  ...       5 2011-05-31 2011-06-07\n",
              "4         43663    472.3108              1  ...       5 2011-05-31 2011-06-07\n",
              "\n",
              "[5 rows x 7 columns]"
            ]
          },
          "metadata": {
            "tags": []
          },
          "execution_count": 13
        }
      ]
    },
    {
      "cell_type": "code",
      "metadata": {
        "id": "2L-Efjpx4LDN",
        "colab_type": "code",
        "colab": {}
      },
      "source": [
        "# Create column for year and month\n",
        "sales_date['Order_Year'] = sales_date['OrderDate'].dt.year\n",
        "sales_date['Order_YM'] = sales_date['OrderDate'].dt.strftime('%Y-%m')"
      ],
      "execution_count": 14,
      "outputs": []
    },
    {
      "cell_type": "markdown",
      "metadata": {
        "id": "j8YLYLe4Zs_d",
        "colab_type": "text"
      },
      "source": [
        "<font color=00AAFF> *Similar to pivot tables, we can aggregate data around a column in a DataFrame using the* </font> `.groupby()` <font color=00AAFF> *method and chaining it with the summary statistics of choice. For example, we can group by* </font> `col_A` <font color=00AAFF> *in* </font> `df_1` <font color=00AAFF>  *and extract the sum of remaining columns using:* </font>\n",
        "\n",
        "```\n",
        "grouped_dataframe = df_1.groupby('col_A').sum()\n",
        "```"
      ]
    },
    {
      "cell_type": "code",
      "metadata": {
        "id": "NLpVQ5OY4LAp",
        "colab_type": "code",
        "colab": {
          "base_uri": "https://localhost:8080/",
          "height": 173
        },
        "outputId": "32f83547-87a0-4442-8dd0-62a3eeca3986"
      },
      "source": [
        "# Extract revenue by year\n",
        "sales_by_year = sales_date.groupby('Order_Year').sum().reset_index()\n",
        "sales_by_year.head()"
      ],
      "execution_count": 15,
      "outputs": [
        {
          "output_type": "execute_result",
          "data": {
            "text/html": [
              "<div>\n",
              "<style scoped>\n",
              "    .dataframe tbody tr th:only-of-type {\n",
              "        vertical-align: middle;\n",
              "    }\n",
              "\n",
              "    .dataframe tbody tr th {\n",
              "        vertical-align: top;\n",
              "    }\n",
              "\n",
              "    .dataframe thead th {\n",
              "        text-align: right;\n",
              "    }\n",
              "</style>\n",
              "<table border=\"1\" class=\"dataframe\">\n",
              "  <thead>\n",
              "    <tr style=\"text-align: right;\">\n",
              "      <th></th>\n",
              "      <th>Order_Year</th>\n",
              "      <th>SalesOrderID</th>\n",
              "      <th>TotalDue</th>\n",
              "      <th>NumberofItems</th>\n",
              "      <th>OnlineOrderFlag</th>\n",
              "      <th>Status</th>\n",
              "    </tr>\n",
              "  </thead>\n",
              "  <tbody>\n",
              "    <tr>\n",
              "      <th>0</th>\n",
              "      <td>2011</td>\n",
              "      <td>71450434</td>\n",
              "      <td>1.415570e+07</td>\n",
              "      <td>5716</td>\n",
              "      <td>1201</td>\n",
              "      <td>8035</td>\n",
              "    </tr>\n",
              "    <tr>\n",
              "      <th>1</th>\n",
              "      <td>2012</td>\n",
              "      <td>184878045</td>\n",
              "      <td>3.767570e+07</td>\n",
              "      <td>21689</td>\n",
              "      <td>2743</td>\n",
              "      <td>19575</td>\n",
              "    </tr>\n",
              "    <tr>\n",
              "      <th>2</th>\n",
              "      <td>2013</td>\n",
              "      <td>798042413</td>\n",
              "      <td>4.896589e+07</td>\n",
              "      <td>56573</td>\n",
              "      <td>12584</td>\n",
              "      <td>70910</td>\n",
              "    </tr>\n",
              "    <tr>\n",
              "      <th>3</th>\n",
              "      <td>2014</td>\n",
              "      <td>814366923</td>\n",
              "      <td>2.241950e+07</td>\n",
              "      <td>37339</td>\n",
              "      <td>11131</td>\n",
              "      <td>58805</td>\n",
              "    </tr>\n",
              "  </tbody>\n",
              "</table>\n",
              "</div>"
            ],
            "text/plain": [
              "   Order_Year  SalesOrderID  ...  OnlineOrderFlag  Status\n",
              "0        2011      71450434  ...             1201    8035\n",
              "1        2012     184878045  ...             2743   19575\n",
              "2        2013     798042413  ...            12584   70910\n",
              "3        2014     814366923  ...            11131   58805\n",
              "\n",
              "[4 rows x 6 columns]"
            ]
          },
          "metadata": {
            "tags": []
          },
          "execution_count": 15
        }
      ]
    },
    {
      "cell_type": "markdown",
      "metadata": {
        "id": "0Cp3cw-ha_rV",
        "colab_type": "text"
      },
      "source": [
        "<font color=\"00AAFF\"> _To create a barplot using_</font> `seaborn`<font color=\"00AAFF\"> _we can use:_</font>\n",
        "\n",
        "- `sns.barplot(x = , y = , data = )`\n",
        "  - `x`: <font color=\"00AAFF\"> _column name on x-axis_</font> \n",
        "  - `y`: <font color=\"00AAFF\"> _column name on y-axis_</font> \n",
        "  - `data`: <font color=\"00AAFF\"> _data being used_</font> \n",
        "\n",
        "<font color=\"00AAFF\"> _To customize plots using_</font> `matplotlib` <font color=\"00AAFF\"> _we can use:_</font>\n",
        "\n",
        "- `plt.title()`: <font color=\"00AAFF\"> _sets plot title_</font> \n",
        "- `plt.xlabel()`: <font color=\"00AAFF\"> _sets x-axis label_</font> \n",
        "- `plt.ylabel()`: <font color=\"00AAFF\"> _sets y-axis label_</font> \n",
        "- `plt.show()`: <font color=\"00AAFF\"> _shows plot_</font> \n"
      ]
    },
    {
      "cell_type": "code",
      "metadata": {
        "id": "Ns-Vc_GS4K-b",
        "colab_type": "code",
        "colab": {
          "base_uri": "https://localhost:8080/",
          "height": 295
        },
        "outputId": "7566ae49-9852-4649-8f68-1dada5164cdc"
      },
      "source": [
        "# Visualize it\n",
        "sns.barplot(x = 'Order_Year', y = 'TotalDue', data = sales_by_year)\n",
        "plt.xlabel(\"Years\")\n",
        "plt.ylabel(\"Revenue\")\n",
        "plt.title(\"Revenue over the years\")\n",
        "plt.show()"
      ],
      "execution_count": 16,
      "outputs": [
        {
          "output_type": "display_data",
          "data": {
            "image/png": "[encoded data removed]",
            "text/plain": [
              "<Figure size 432x288 with 1 Axes>"
            ]
          },
          "metadata": {
            "tags": [],
            "needs_background": "light"
          }
        }
      ]
    },
    {
      "cell_type": "code",
      "metadata": {
        "id": "pTdxEPc94K82",
        "colab_type": "code",
        "colab": {
          "base_uri": "https://localhost:8080/",
          "height": 204
        },
        "outputId": "c4629a0b-1efb-4cc8-df7c-db86ad961934"
      },
      "source": [
        "# Is there seasonality?\n",
        "sales_by_year_month = sales_date.groupby('Order_YM').sum().reset_index()\n",
        "sales_by_year_month.head()"
      ],
      "execution_count": 17,
      "outputs": [
        {
          "output_type": "execute_result",
          "data": {
            "text/html": [
              "<div>\n",
              "<style scoped>\n",
              "    .dataframe tbody tr th:only-of-type {\n",
              "        vertical-align: middle;\n",
              "    }\n",
              "\n",
              "    .dataframe tbody tr th {\n",
              "        vertical-align: top;\n",
              "    }\n",
              "\n",
              "    .dataframe thead th {\n",
              "        text-align: right;\n",
              "    }\n",
              "</style>\n",
              "<table border=\"1\" class=\"dataframe\">\n",
              "  <thead>\n",
              "    <tr style=\"text-align: right;\">\n",
              "      <th></th>\n",
              "      <th>Order_YM</th>\n",
              "      <th>SalesOrderID</th>\n",
              "      <th>TotalDue</th>\n",
              "      <th>NumberofItems</th>\n",
              "      <th>OnlineOrderFlag</th>\n",
              "      <th>Status</th>\n",
              "      <th>Order_Year</th>\n",
              "    </tr>\n",
              "  </thead>\n",
              "  <tbody>\n",
              "    <tr>\n",
              "      <th>0</th>\n",
              "      <td>2011-05</td>\n",
              "      <td>1878240</td>\n",
              "      <td>5.670209e+05</td>\n",
              "      <td>357</td>\n",
              "      <td>5</td>\n",
              "      <td>215</td>\n",
              "      <td>86473</td>\n",
              "    </tr>\n",
              "    <tr>\n",
              "      <th>1</th>\n",
              "      <td>2011-06</td>\n",
              "      <td>6171852</td>\n",
              "      <td>5.070965e+05</td>\n",
              "      <td>141</td>\n",
              "      <td>141</td>\n",
              "      <td>705</td>\n",
              "      <td>283551</td>\n",
              "    </tr>\n",
              "    <tr>\n",
              "      <th>2</th>\n",
              "      <td>2011-07</td>\n",
              "      <td>10154298</td>\n",
              "      <td>2.292183e+06</td>\n",
              "      <td>941</td>\n",
              "      <td>156</td>\n",
              "      <td>1155</td>\n",
              "      <td>464541</td>\n",
              "    </tr>\n",
              "    <tr>\n",
              "      <th>3</th>\n",
              "      <td>2011-08</td>\n",
              "      <td>11049625</td>\n",
              "      <td>2.800576e+06</td>\n",
              "      <td>1242</td>\n",
              "      <td>150</td>\n",
              "      <td>1250</td>\n",
              "      <td>502750</td>\n",
              "    </tr>\n",
              "    <tr>\n",
              "      <th>4</th>\n",
              "      <td>2011-09</td>\n",
              "      <td>6971114</td>\n",
              "      <td>5.547916e+05</td>\n",
              "      <td>157</td>\n",
              "      <td>157</td>\n",
              "      <td>785</td>\n",
              "      <td>315727</td>\n",
              "    </tr>\n",
              "  </tbody>\n",
              "</table>\n",
              "</div>"
            ],
            "text/plain": [
              "  Order_YM  SalesOrderID      TotalDue  ...  OnlineOrderFlag  Status  Order_Year\n",
              "0  2011-05       1878240  5.670209e+05  ...                5     215       86473\n",
              "1  2011-06       6171852  5.070965e+05  ...              141     705      283551\n",
              "2  2011-07      10154298  2.292183e+06  ...              156    1155      464541\n",
              "3  2011-08      11049625  2.800576e+06  ...              150    1250      502750\n",
              "4  2011-09       6971114  5.547916e+05  ...              157     785      315727\n",
              "\n",
              "[5 rows x 7 columns]"
            ]
          },
          "metadata": {
            "tags": []
          },
          "execution_count": 17
        }
      ]
    },
    {
      "cell_type": "markdown",
      "metadata": {
        "id": "8vwXd-0TchIH",
        "colab_type": "text"
      },
      "source": [
        "<font color=\"00AAFF\"> _To create a lineplot using_</font> `seaborn`<font color=\"00AAFF\"> _we can use:_</font>\n",
        "\n",
        "- `sns.lineplot(x = , y = , data = )`\n",
        "  - `x`: <font color=\"00AAFF\"> _column name on x-axis_</font> \n",
        "  - `y`: <font color=\"00AAFF\"> _column name on y-axis_</font> \n",
        "  - `data`: <font color=\"00AAFF\"> _data being used_</font> \n",
        "\n"
      ]
    },
    {
      "cell_type": "code",
      "metadata": {
        "id": "awDjxQx14K7J",
        "colab_type": "code",
        "colab": {
          "base_uri": "https://localhost:8080/",
          "height": 431
        },
        "outputId": "bc997e9c-d18e-412a-ef99-7f3cdb463ede"
      },
      "source": [
        "# Visualize it\n",
        "plt.figure(figsize=(18, 6))\n",
        "sns.lineplot(x = 'Order_YM', y = 'TotalDue', data = sales_by_year_month)\n",
        "plt.xticks(rotation=45)\n",
        "plt.xlabel(\"Years\")\n",
        "plt.ylabel(\"Revenue\")\n",
        "plt.title(\"Revenue over the years\")\n",
        "plt.show()"
      ],
      "execution_count": 18,
      "outputs": [
        {
          "output_type": "display_data",
          "data": {
            "image/png": "[encoded data removed]",
            "text/plain": [
              "<Figure size 1296x432 with 1 Axes>"
            ]
          },
          "metadata": {
            "tags": [],
            "needs_background": "light"
          }
        }
      ]
    },
    {
      "cell_type": "markdown",
      "metadata": {
        "id": "5ZqzNfA6VDY0",
        "colab_type": "text"
      },
      "source": [
        "---\n",
        "<center><h1> Q&A 3</h1> </center>\n",
        "\n",
        "---"
      ]
    },
    {
      "cell_type": "markdown",
      "metadata": {
        "id": "uIsHEbLlFGtn",
        "colab_type": "text"
      },
      "source": [
        "## **Q2: How is revenue divided by channel type over time?**"
      ]
    },
    {
      "cell_type": "markdown",
      "metadata": {
        "id": "mpmB3J_Kidx0",
        "colab_type": "text"
      },
      "source": [
        "<font color=\"00AAFF\">*Similar to how we merged the*</font> `sales` <font color=\"00AAFF\">*sheet with the*</font> `dates` <font color=\"00AAFF\">*sheet when answering Q1, we will be merging the* </font> `sales` <font color=\"00AAFF\">*sheet with the*</font> `customers` <font color=\"00AAFF\">*sheet to get the channel type, employee and customer names for each*</font> `SalesOrderID`.\n",
        "\n",
        "<br>\n",
        "\n",
        "<p align=\"center\">\n",
        "<img src=\"https://github.com/adelnehme/data-upskilling-learning-club-II/blob/master/assets/pivots2.png?raw=True\" alt = \"pivot\" width=\"70%\">\n",
        "</p>\n",
        "\n",
        "<br>"
      ]
    },
    {
      "cell_type": "code",
      "metadata": {
        "id": "Kql3u8DH4jc4",
        "colab_type": "code",
        "colab": {
          "base_uri": "https://localhost:8080/",
          "height": 309
        },
        "outputId": "8024c743-2fef-446e-a145-1736ff66f445"
      },
      "source": [
        "# Merge sales, dates and customers data\n",
        "sales_customers_date = sales_date.merge(customers, on = \"SalesOrderID\", how = \"left\")\n",
        "sales_customers_date.head()"
      ],
      "execution_count": 19,
      "outputs": [
        {
          "output_type": "execute_result",
          "data": {
            "text/html": [
              "<div>\n",
              "<style scoped>\n",
              "    .dataframe tbody tr th:only-of-type {\n",
              "        vertical-align: middle;\n",
              "    }\n",
              "\n",
              "    .dataframe tbody tr th {\n",
              "        vertical-align: top;\n",
              "    }\n",
              "\n",
              "    .dataframe thead th {\n",
              "        text-align: right;\n",
              "    }\n",
              "</style>\n",
              "<table border=\"1\" class=\"dataframe\">\n",
              "  <thead>\n",
              "    <tr style=\"text-align: right;\">\n",
              "      <th></th>\n",
              "      <th>SalesOrderID</th>\n",
              "      <th>TotalDue</th>\n",
              "      <th>NumberofItems</th>\n",
              "      <th>OnlineOrderFlag</th>\n",
              "      <th>Status</th>\n",
              "      <th>OrderDate</th>\n",
              "      <th>ShipDate</th>\n",
              "      <th>Order_Year</th>\n",
              "      <th>Order_YM</th>\n",
              "      <th>CustomerFirstName</th>\n",
              "      <th>CustomerLastName</th>\n",
              "      <th>EmployeeFirstName</th>\n",
              "      <th>EmployeeLastName</th>\n",
              "      <th>ChannelType</th>\n",
              "      <th>EmployeeFullName</th>\n",
              "    </tr>\n",
              "  </thead>\n",
              "  <tbody>\n",
              "    <tr>\n",
              "      <th>0</th>\n",
              "      <td>43659</td>\n",
              "      <td>23153.2339</td>\n",
              "      <td>12</td>\n",
              "      <td>0</td>\n",
              "      <td>5</td>\n",
              "      <td>2011-05-31</td>\n",
              "      <td>2011-06-07</td>\n",
              "      <td>2011</td>\n",
              "      <td>2011-05</td>\n",
              "      <td>NaN</td>\n",
              "      <td>NaN</td>\n",
              "      <td>Tsvi</td>\n",
              "      <td>Reiter</td>\n",
              "      <td>B2B</td>\n",
              "      <td>Tsvi Reiter</td>\n",
              "    </tr>\n",
              "    <tr>\n",
              "      <th>1</th>\n",
              "      <td>43660</td>\n",
              "      <td>1457.3288</td>\n",
              "      <td>2</td>\n",
              "      <td>0</td>\n",
              "      <td>5</td>\n",
              "      <td>2011-05-31</td>\n",
              "      <td>2011-06-07</td>\n",
              "      <td>2011</td>\n",
              "      <td>2011-05</td>\n",
              "      <td>NaN</td>\n",
              "      <td>NaN</td>\n",
              "      <td>Tsvi</td>\n",
              "      <td>Reiter</td>\n",
              "      <td>B2B</td>\n",
              "      <td>Tsvi Reiter</td>\n",
              "    </tr>\n",
              "    <tr>\n",
              "      <th>2</th>\n",
              "      <td>43661</td>\n",
              "      <td>36865.8012</td>\n",
              "      <td>15</td>\n",
              "      <td>0</td>\n",
              "      <td>5</td>\n",
              "      <td>2011-05-31</td>\n",
              "      <td>2011-06-07</td>\n",
              "      <td>2011</td>\n",
              "      <td>2011-05</td>\n",
              "      <td>NaN</td>\n",
              "      <td>NaN</td>\n",
              "      <td>José</td>\n",
              "      <td>Saraiva</td>\n",
              "      <td>B2B</td>\n",
              "      <td>José Saraiva</td>\n",
              "    </tr>\n",
              "    <tr>\n",
              "      <th>3</th>\n",
              "      <td>43662</td>\n",
              "      <td>32474.9324</td>\n",
              "      <td>22</td>\n",
              "      <td>0</td>\n",
              "      <td>5</td>\n",
              "      <td>2011-05-31</td>\n",
              "      <td>2011-06-07</td>\n",
              "      <td>2011</td>\n",
              "      <td>2011-05</td>\n",
              "      <td>NaN</td>\n",
              "      <td>NaN</td>\n",
              "      <td>José</td>\n",
              "      <td>Saraiva</td>\n",
              "      <td>B2B</td>\n",
              "      <td>José Saraiva</td>\n",
              "    </tr>\n",
              "    <tr>\n",
              "      <th>4</th>\n",
              "      <td>43663</td>\n",
              "      <td>472.3108</td>\n",
              "      <td>1</td>\n",
              "      <td>0</td>\n",
              "      <td>5</td>\n",
              "      <td>2011-05-31</td>\n",
              "      <td>2011-06-07</td>\n",
              "      <td>2011</td>\n",
              "      <td>2011-05</td>\n",
              "      <td>NaN</td>\n",
              "      <td>NaN</td>\n",
              "      <td>Linda</td>\n",
              "      <td>Mitchell</td>\n",
              "      <td>B2B</td>\n",
              "      <td>Linda Mitchell</td>\n",
              "    </tr>\n",
              "  </tbody>\n",
              "</table>\n",
              "</div>"
            ],
            "text/plain": [
              "   SalesOrderID    TotalDue  ...  ChannelType  EmployeeFullName\n",
              "0         43659  23153.2339  ...          B2B       Tsvi Reiter\n",
              "1         43660   1457.3288  ...          B2B       Tsvi Reiter\n",
              "2         43661  36865.8012  ...          B2B      José Saraiva\n",
              "3         43662  32474.9324  ...          B2B      José Saraiva\n",
              "4         43663    472.3108  ...          B2B    Linda Mitchell\n",
              "\n",
              "[5 rows x 15 columns]"
            ]
          },
          "metadata": {
            "tags": []
          },
          "execution_count": 19
        }
      ]
    },
    {
      "cell_type": "code",
      "metadata": {
        "id": "Cw4oqqKe4jaz",
        "colab_type": "code",
        "colab": {
          "base_uri": "https://localhost:8080/",
          "height": 204
        },
        "outputId": "c0cbd8d1-99fd-43fc-ffc0-6c3b46fe90a5"
      },
      "source": [
        "# Group by year by channel type\n",
        "sales_by_channel_date = sales_customers_date.groupby(['Order_Year', 'ChannelType']).sum().reset_index()\n",
        "sales_by_channel_date.head()"
      ],
      "execution_count": 20,
      "outputs": [
        {
          "output_type": "execute_result",
          "data": {
            "text/html": [
              "<div>\n",
              "<style scoped>\n",
              "    .dataframe tbody tr th:only-of-type {\n",
              "        vertical-align: middle;\n",
              "    }\n",
              "\n",
              "    .dataframe tbody tr th {\n",
              "        vertical-align: top;\n",
              "    }\n",
              "\n",
              "    .dataframe thead th {\n",
              "        text-align: right;\n",
              "    }\n",
              "</style>\n",
              "<table border=\"1\" class=\"dataframe\">\n",
              "  <thead>\n",
              "    <tr style=\"text-align: right;\">\n",
              "      <th></th>\n",
              "      <th>Order_Year</th>\n",
              "      <th>ChannelType</th>\n",
              "      <th>SalesOrderID</th>\n",
              "      <th>TotalDue</th>\n",
              "      <th>NumberofItems</th>\n",
              "      <th>OnlineOrderFlag</th>\n",
              "      <th>Status</th>\n",
              "    </tr>\n",
              "  </thead>\n",
              "  <tbody>\n",
              "    <tr>\n",
              "      <th>0</th>\n",
              "      <td>2011</td>\n",
              "      <td>B2B</td>\n",
              "      <td>17999103</td>\n",
              "      <td>9.886952e+06</td>\n",
              "      <td>4515</td>\n",
              "      <td>0</td>\n",
              "      <td>2030</td>\n",
              "    </tr>\n",
              "    <tr>\n",
              "      <th>1</th>\n",
              "      <td>2011</td>\n",
              "      <td>B2C</td>\n",
              "      <td>53451331</td>\n",
              "      <td>4.268748e+06</td>\n",
              "      <td>1201</td>\n",
              "      <td>1201</td>\n",
              "      <td>6005</td>\n",
              "    </tr>\n",
              "    <tr>\n",
              "      <th>2</th>\n",
              "      <td>2012</td>\n",
              "      <td>B2B</td>\n",
              "      <td>55440422</td>\n",
              "      <td>3.061409e+07</td>\n",
              "      <td>18946</td>\n",
              "      <td>0</td>\n",
              "      <td>5860</td>\n",
              "    </tr>\n",
              "    <tr>\n",
              "      <th>3</th>\n",
              "      <td>2012</td>\n",
              "      <td>B2C</td>\n",
              "      <td>129437623</td>\n",
              "      <td>7.061613e+06</td>\n",
              "      <td>2743</td>\n",
              "      <td>2743</td>\n",
              "      <td>13715</td>\n",
              "    </tr>\n",
              "    <tr>\n",
              "      <th>4</th>\n",
              "      <td>2013</td>\n",
              "      <td>B2B</td>\n",
              "      <td>87767978</td>\n",
              "      <td>3.710689e+07</td>\n",
              "      <td>27614</td>\n",
              "      <td>0</td>\n",
              "      <td>7990</td>\n",
              "    </tr>\n",
              "  </tbody>\n",
              "</table>\n",
              "</div>"
            ],
            "text/plain": [
              "   Order_Year ChannelType  SalesOrderID  ...  NumberofItems  OnlineOrderFlag  Status\n",
              "0        2011         B2B      17999103  ...           4515                0    2030\n",
              "1        2011         B2C      53451331  ...           1201             1201    6005\n",
              "2        2012         B2B      55440422  ...          18946                0    5860\n",
              "3        2012         B2C     129437623  ...           2743             2743   13715\n",
              "4        2013         B2B      87767978  ...          27614                0    7990\n",
              "\n",
              "[5 rows x 7 columns]"
            ]
          },
          "metadata": {
            "tags": []
          },
          "execution_count": 20
        }
      ]
    },
    {
      "cell_type": "code",
      "metadata": {
        "id": "9cWRLNkV4jYm",
        "colab_type": "code",
        "colab": {
          "base_uri": "https://localhost:8080/",
          "height": 295
        },
        "outputId": "c14b2e81-24fe-445c-8d3a-ce06230ead8e"
      },
      "source": [
        "# Visualize\n",
        "sns.barplot(x = 'Order_Year', y = 'TotalDue', hue = \"ChannelType\", data = sales_by_channel_date)\n",
        "plt.xlabel(\"Channel Type\")\n",
        "plt.ylabel(\"Revenue\")\n",
        "plt.title(\"Revenue by Channel Type\")\n",
        "plt.show()"
      ],
      "execution_count": 21,
      "outputs": [
        {
          "output_type": "display_data",
          "data": {
            "image/png": "[encoded data removed]",
            "text/plain": [
              "<Figure size 432x288 with 1 Axes>"
            ]
          },
          "metadata": {
            "tags": [],
            "needs_background": "light"
          }
        }
      ]
    },
    {
      "cell_type": "markdown",
      "metadata": {
        "id": "cIlD0evqdW--",
        "colab_type": "text"
      },
      "source": [
        "---\n",
        "<center><h1> Q&A 4</h1> </center>\n",
        "\n",
        "---"
      ]
    }
  ]
}