{
  "nbformat": 4,
  "nbformat_minor": 0,
  "metadata": {
    "colab": {
      "name": "Data UpSkilling Learning Club: Manipulating Data with Python.ipynb",
      "provenance": []
    },
    "kernelspec": {
      "name": "python3",
      "display_name": "Python 3"
    }
  },
  "cells": [
    {
      "cell_type": "markdown",
      "metadata": {
        "id": "upgA33i96krb",
        "colab_type": "text"
      },
      "source": [
        "<p align=\"center\">\n",
        "<img src=\"https://github.com/adelnehme/data-upskilling-learning-club-II/blob/master/assets/datacamp_amazon.png?raw=true\" alt = \"DataCamp Amazon icon\" width=\"65%\">\n",
        "</p>\n",
        "\n",
        "\n",
        "## **Data UpSkilling Learning Club: Manipulating Data with Python**\n",
        "\n",
        "\n",
        "#### **Key session takeaways**\n",
        "\n",
        "* Import Excel files into Python using pandas — Python’s most popular data analysis package\n",
        "* Join multiple datasets based on common columns\n",
        "* Clean dataset by replacing missing values, and unifying categorical columns\n",
        "* Aggregate data, extract insights and visualize results\n",
        "\n",
        "<br>\n",
        "\n",
        "#### **The Dataset**\n",
        "\n",
        "The dataset to be used in this webinar is a XLSX file named `sales_performance.xlsx`, which contains 4 sheets:\n",
        "<br>\n",
        "\n",
        "<p align=\"center\">\n",
        "<img src=\"https://github.com/adelnehme/data-upskilling-learning-club-II/blob/master/assets/dataset.png?raw=true\" alt = \"Datasets\" width=\"100%\">\n",
        "</p>\n",
        "\n",
        "<br>\n",
        "\n",
        "#### **Questions to answer**\n",
        "\n",
        "- **Question 1:** How is revenue growth over time?\n",
        "- **Question 2:** How is revenue growth by channel type over time?"
      ]
    },
    {
      "cell_type": "markdown",
      "metadata": {
        "id": "aAVUCIhQnvqx",
        "colab_type": "text"
      },
      "source": [
        "## **Getting started with the dataset**"
      ]
    },
    {
      "cell_type": "markdown",
      "metadata": {
        "id": "5mq4lDtxqLp6",
        "colab_type": "text"
      },
      "source": [
        "<font color=00AAFF> *Python has packages or modules that we download and install that allows to perform a set of tasks. We can also set aliases for these packages to shorten their name and make calling them more convenient.*<font color=00AAFF>\n",
        "\n",
        "\n"
      ]
    },
    {
      "cell_type": "code",
      "metadata": {
        "id": "-d04csgd6i0R",
        "colab_type": "code",
        "colab": {}
      },
      "source": [
        "# Import relevant packages\n",
        "import pandas as pd\n",
        "import matplotlib.pyplot as plt\n",
        "import seaborn as sns"
      ],
      "execution_count": null,
      "outputs": []
    },
    {
      "cell_type": "markdown",
      "metadata": {
        "id": "GpukuHi6xWlt",
        "colab_type": "text"
      },
      "source": [
        "<font color=00AAFF>*We will use*</font> `pandas` <font color=00AAFF>*(alias as*</font> `pd`<font color=00AAFF>*) to read an excel file using*</font> `data = pd.ExcelFile('path')` \n",
        "\n",
        "<font color=00AAFF>*Check out this [link](https://pandas.pydata.org/pandas-docs/stable/user_guide/io.html) for importing other data types.*<font color=00AAFF>"
      ]
    },
    {
      "cell_type": "code",
      "metadata": {
        "id": "hgWlh8epiOij",
        "colab_type": "code",
        "colab": {}
      },
      "source": [
        "# Import the data\n",
        "data = pd.ExcelFile('https://github.com/adelnehme/data-upskilling-learning-club-II/blob/master/data/sales_performance.xlsx?raw=true')"
      ],
      "execution_count": null,
      "outputs": []
    },
    {
      "cell_type": "code",
      "metadata": {
        "id": "EMa8uUlAidFk",
        "colab_type": "code",
        "colab": {}
      },
      "source": [
        "# Print the name of the sheets\n"
      ],
      "execution_count": null,
      "outputs": []
    },
    {
      "cell_type": "code",
      "metadata": {
        "id": "WlG46zdNidzz",
        "colab_type": "code",
        "colab": {}
      },
      "source": [
        "# Parse sales data\n",
        "\n",
        "# Print the header of sales data\n"
      ],
      "execution_count": null,
      "outputs": []
    },
    {
      "cell_type": "code",
      "metadata": {
        "id": "HBJhclwIijLQ",
        "colab_type": "code",
        "colab": {}
      },
      "source": [
        "# Parse customers data \n",
        "\n",
        "# Print the header of customers data\n"
      ],
      "execution_count": null,
      "outputs": []
    },
    {
      "cell_type": "code",
      "metadata": {
        "id": "eLRqU9yVj8lk",
        "colab_type": "code",
        "colab": {}
      },
      "source": [
        "# Parse dates data\n",
        "\n",
        "# Print the header of dates data\n"
      ],
      "execution_count": null,
      "outputs": []
    },
    {
      "cell_type": "code",
      "metadata": {
        "id": "dzdHh12loRMq",
        "colab_type": "code",
        "colab": {}
      },
      "source": [
        "# Parse employees data\n",
        "\n",
        "# Print the header of employees data\n"
      ],
      "execution_count": null,
      "outputs": []
    },
    {
      "cell_type": "markdown",
      "metadata": {
        "id": "tA-yPFUo2wd8",
        "colab_type": "text"
      },
      "source": [
        "<font color=00AAFF>*Some important and common methods needed to get a better understanding of DataFrames are the following:*<font color=00AAFF> \n",
        "\n",
        "- `.info()` <font color=00AAFF>*provides a bird's eye view of column data types and missing values*</font>\n",
        "- `.describe()` <font color=00AAFF>*returns a distribution of numeric columns in your DataFrame*</font>"
      ]
    },
    {
      "cell_type": "code",
      "metadata": {
        "id": "yyhXh1iL4IsA",
        "colab_type": "code",
        "colab": {}
      },
      "source": [
        "# Understand missingness of sales data\n"
      ],
      "execution_count": null,
      "outputs": []
    },
    {
      "cell_type": "code",
      "metadata": {
        "id": "YtPmjfN54KsL",
        "colab_type": "code",
        "colab": {}
      },
      "source": [
        "# Understand distribution of sales data\n"
      ],
      "execution_count": null,
      "outputs": []
    },
    {
      "cell_type": "code",
      "metadata": {
        "id": "4LXx9pOH4Lem",
        "colab_type": "code",
        "colab": {}
      },
      "source": [
        "# Understand column types of dates and missingness\n"
      ],
      "execution_count": null,
      "outputs": []
    },
    {
      "cell_type": "code",
      "metadata": {
        "id": "Di0X2oT04Lcd",
        "colab_type": "code",
        "colab": {}
      },
      "source": [
        "# Let's understand the degree of missingness in customers dataset\n"
      ],
      "execution_count": null,
      "outputs": []
    },
    {
      "cell_type": "code",
      "metadata": {
        "id": "RPAMIxLxS7aO",
        "colab_type": "code",
        "colab": {}
      },
      "source": [
        "# How to find missing values?\n"
      ],
      "execution_count": null,
      "outputs": []
    },
    {
      "cell_type": "markdown",
      "metadata": {
        "id": "W23hMUxKErvf",
        "colab_type": "text"
      },
      "source": [
        "## **Data Cleaning**\n"
      ]
    },
    {
      "cell_type": "markdown",
      "metadata": {
        "id": "VcDbgDhcJXAL",
        "colab_type": "text"
      },
      "source": [
        "**1. Convert date columns to**`datetime` **in** `dates` **DataFrame**"
      ]
    },
    {
      "cell_type": "markdown",
      "metadata": {
        "id": "41VeKgyMHfV7",
        "colab_type": "text"
      },
      "source": [
        "<font color=00AAFF>*To convert a date column to*</font> `datetime` <font color=00AAFF>*— we can use the* </font> `pd.to_datetime()` <font color=00AAFF>*function which takes in the following arguments:* </font>\n",
        "\n",
        "- <font color=00AAFF>*The column being converted*</font>\n",
        "- `format`: <font color=00AAFF>*takes in a date format (e.g.*</font>`'%Y-%m-%d'`<font color=00AAFF>*) — list of datetime formats can be found [here](https://docs.python.org/3/library/datetime.html#strftime-and-strptime-behavior).*</font>"
      ]
    },
    {
      "cell_type": "code",
      "metadata": {
        "id": "SjRVVWDk4LWI",
        "colab_type": "code",
        "colab": {}
      },
      "source": [
        "# Convert data columns to datetime while keeping only Y,m,d\n"
      ],
      "execution_count": null,
      "outputs": []
    },
    {
      "cell_type": "code",
      "metadata": {
        "id": "LXUpSdHX4LSq",
        "colab_type": "code",
        "colab": {}
      },
      "source": [
        "# Make sure now into datetime\n"
      ],
      "execution_count": null,
      "outputs": []
    },
    {
      "cell_type": "markdown",
      "metadata": {
        "id": "NuDq01QcJi2w",
        "colab_type": "text"
      },
      "source": [
        "**2. Unify first and last names in** `customers` **and** `employees` **DataFrames**"
      ]
    },
    {
      "cell_type": "code",
      "metadata": {
        "id": "x2eFUnapJoym",
        "colab_type": "code",
        "colab": {}
      },
      "source": [
        "# Combine first and last name in customers\n"
      ],
      "execution_count": null,
      "outputs": []
    },
    {
      "cell_type": "code",
      "metadata": {
        "id": "aOag7FlkJpxa",
        "colab_type": "code",
        "colab": {}
      },
      "source": [
        "# Combine first and last name in employees\n"
      ],
      "execution_count": null,
      "outputs": []
    },
    {
      "cell_type": "markdown",
      "metadata": {
        "id": "PCD0XmloJuNi",
        "colab_type": "text"
      },
      "source": [
        "**3. Impute missing values in** `ChannelType` **column in the** `customers` **DataFrame** "
      ]
    },
    {
      "cell_type": "markdown",
      "metadata": {
        "id": "HtZz5VeGKJO3",
        "colab_type": "text"
      },
      "source": [
        "<font color=00AAFF> *The* </font> `.loc[]` <font color=00AAFF> *operator allows to subset DataFrames based on a subset of rows and column name*</font> "
      ]
    },
    {
      "cell_type": "code",
      "metadata": {
        "id": "u1ND9J_54LNq",
        "colab_type": "code",
        "colab": {}
      },
      "source": [
        "# Impute missing values based on key business assumptions\n"
      ],
      "execution_count": null,
      "outputs": []
    },
    {
      "cell_type": "code",
      "metadata": {
        "id": "3KxSjVAU4LLF",
        "colab_type": "code",
        "colab": {}
      },
      "source": [
        "# Make sure no more missing data in ChannelType\n"
      ],
      "execution_count": null,
      "outputs": []
    },
    {
      "cell_type": "markdown",
      "metadata": {
        "id": "AOuJPAJO5N1t",
        "colab_type": "text"
      },
      "source": [
        "---\n",
        "<center><h1> Q&A 2</h1> </center>\n",
        "\n",
        "---"
      ]
    },
    {
      "cell_type": "markdown",
      "metadata": {
        "id": "GDQpEkCImzL9",
        "colab_type": "text"
      },
      "source": [
        "## **Q1: How did we do in revenue over the years?**"
      ]
    },
    {
      "cell_type": "markdown",
      "metadata": {
        "id": "mfBFUvPQXZyZ",
        "colab_type": "text"
      },
      "source": [
        "<font color=00AAFF> *Since we have revenue data for each* </font> `SalesOrderID` <font color=00AAFF> *in the* </font> `sales` <font color=00AAFF> *sheet - and the order date and ship date for each* </font> `SalesOrderID` <font color=00AAFF> *in the* </font> `dates` <font color=00AAFF> *sheet - we want to combine both DataFrames similar to how a VLOOKUP would work.* </font> \n",
        "\n",
        "<br>\n",
        "\n",
        "<p align=\"center\">\n",
        "<img src=\"https://github.com/adelnehme/data-upskilling-learning-club-II/blob/master/assets/pivots.png?raw=True\" alt = \"pivot\" width=\"70%\">\n",
        "</p>\n",
        "\n",
        "<br><br>\n",
        "\n",
        "<font color=00AAFF> *In more technical terms, we want to perform of left join of both DataFrames where* </font> `SalesOrderId` <font color=00AAFF> *is a common column between them.* </font>\n",
        "\n",
        "\n",
        "<p align=\"center\">\n",
        "<img src=\"https://github.com/adelnehme/data-upskilling-learning-club-II/blob/master/assets/left_join.png?raw=True\" alt = \"DataCamp icon\" width=\"50%\">\n",
        "</p>\n",
        "\n",
        "\n",
        "\n",
        "\n",
        "\n",
        "<font color=00AAFF> *We can left-join two DataFrames using the* </font> `.merge()` <font color=00AAFF> *method* </font>\n",
        "\n",
        "```\n",
        "merged_dataframe = df_1.merge(df_2, on = 'common_column', how = 'left')\n",
        "```\n"
      ]
    },
    {
      "cell_type": "code",
      "metadata": {
        "id": "GdhvX_CB4LF5",
        "colab_type": "code",
        "colab": {}
      },
      "source": [
        "# Left join sales and dates\n"
      ],
      "execution_count": null,
      "outputs": []
    },
    {
      "cell_type": "code",
      "metadata": {
        "id": "2L-Efjpx4LDN",
        "colab_type": "code",
        "colab": {}
      },
      "source": [
        "# Create column for year and month\n"
      ],
      "execution_count": null,
      "outputs": []
    },
    {
      "cell_type": "markdown",
      "metadata": {
        "id": "j8YLYLe4Zs_d",
        "colab_type": "text"
      },
      "source": [
        "<font color=00AAFF> *Similar to pivot tables, we can aggregate data around a column in a DataFrame using the* </font> `.groupby()` <font color=00AAFF> *method and chaining it with the summary statistics of choice. For example, we can group by* </font> `col_A` <font color=00AAFF> *in* </font> `df_1` <font color=00AAFF>  *and extract the sum of remaining columns using:* </font>\n",
        "\n",
        "```\n",
        "grouped_dataframe = df_1.groupby('col_A').sum()\n",
        "```"
      ]
    },
    {
      "cell_type": "code",
      "metadata": {
        "id": "NLpVQ5OY4LAp",
        "colab_type": "code",
        "colab": {}
      },
      "source": [
        "# Extract revenue by year\n"
      ],
      "execution_count": null,
      "outputs": []
    },
    {
      "cell_type": "markdown",
      "metadata": {
        "id": "0Cp3cw-ha_rV",
        "colab_type": "text"
      },
      "source": [
        "<font color=\"00AAFF\"> _To create a barplot using_</font> `seaborn`<font color=\"00AAFF\"> _we can use:_</font>\n",
        "\n",
        "- `sns.barplot(x = , y = , data = )`\n",
        "  - `x`: <font color=\"00AAFF\"> _column name on x-axis_</font> \n",
        "  - `y`: <font color=\"00AAFF\"> _column name on y-axis_</font> \n",
        "  - `data`: <font color=\"00AAFF\"> _data being used_</font> \n",
        "\n",
        "<font color=\"00AAFF\"> _To customize plots using_</font> `matplotlib` <font color=\"00AAFF\"> _we can use:_</font>\n",
        "\n",
        "- `plt.title()`: <font color=\"00AAFF\"> _sets plot title_</font> \n",
        "- `plt.xlabel()`: <font color=\"00AAFF\"> _sets x-axis label_</font> \n",
        "- `plt.ylabel()`: <font color=\"00AAFF\"> _sets y-axis label_</font> \n",
        "- `plt.show()`: <font color=\"00AAFF\"> _shows plot_</font> \n"
      ]
    },
    {
      "cell_type": "code",
      "metadata": {
        "id": "Ns-Vc_GS4K-b",
        "colab_type": "code",
        "colab": {}
      },
      "source": [
        "# Visualize it\n"
      ],
      "execution_count": null,
      "outputs": []
    },
    {
      "cell_type": "code",
      "metadata": {
        "id": "pTdxEPc94K82",
        "colab_type": "code",
        "colab": {}
      },
      "source": [
        "# Is there seasonality?\n"
      ],
      "execution_count": null,
      "outputs": []
    },
    {
      "cell_type": "markdown",
      "metadata": {
        "id": "8vwXd-0TchIH",
        "colab_type": "text"
      },
      "source": [
        "<font color=\"00AAFF\"> _To create a lineplot using_</font> `seaborn`<font color=\"00AAFF\"> _we can use:_</font>\n",
        "\n",
        "- `sns.lineplot(x = , y = , data = )`\n",
        "  - `x`: <font color=\"00AAFF\"> _column name on x-axis_</font> \n",
        "  - `y`: <font color=\"00AAFF\"> _column name on y-axis_</font> \n",
        "  - `data`: <font color=\"00AAFF\"> _data being used_</font> \n",
        "\n"
      ]
    },
    {
      "cell_type": "code",
      "metadata": {
        "id": "awDjxQx14K7J",
        "colab_type": "code",
        "colab": {}
      },
      "source": [
        "# Visualize it\n",
        "plt.figure(figsize=(18, 6))\n",
        "\n",
        "\n",
        "\n",
        "plt.xticks(rotation=45)\n",
        "plt.xlabel(\"Years\")\n",
        "plt.ylabel(\"Revenue\")\n",
        "plt.title(\"Revenue over the years\")\n",
        "plt.show()"
      ],
      "execution_count": null,
      "outputs": []
    },
    {
      "cell_type": "markdown",
      "metadata": {
        "id": "5ZqzNfA6VDY0",
        "colab_type": "text"
      },
      "source": [
        "---\n",
        "<center><h1> Q&A 3</h1> </center>\n",
        "\n",
        "---"
      ]
    },
    {
      "cell_type": "markdown",
      "metadata": {
        "id": "uIsHEbLlFGtn",
        "colab_type": "text"
      },
      "source": [
        "## **Q2: How is revenue divided by channel type over time?**"
      ]
    },
    {
      "cell_type": "markdown",
      "metadata": {
        "id": "mpmB3J_Kidx0",
        "colab_type": "text"
      },
      "source": [
        "<font color=\"00AAFF\">*Similar to how we merged the*</font> `sales` <font color=\"00AAFF\">*sheet with the*</font> `dates` <font color=\"00AAFF\">*sheet when answering Q1, we will be merging the* </font> `sales` <font color=\"00AAFF\">*sheet with the*</font> `customers` <font color=\"00AAFF\">*sheet to get the channel type, employee and customer names for each*</font> `SalesOrderID`.\n",
        "\n",
        "<br>\n",
        "\n",
        "<p align=\"center\">\n",
        "<img src=\"https://github.com/adelnehme/data-upskilling-learning-club-II/blob/master/assets/pivots2.png?raw=True\" alt = \"pivot\" width=\"70%\">\n",
        "</p>\n",
        "\n",
        "<br>"
      ]
    },
    {
      "cell_type": "code",
      "metadata": {
        "id": "Kql3u8DH4jc4",
        "colab_type": "code",
        "colab": {}
      },
      "source": [
        "# Merge sales, dates and customers data\n"
      ],
      "execution_count": null,
      "outputs": []
    },
    {
      "cell_type": "code",
      "metadata": {
        "id": "Cw4oqqKe4jaz",
        "colab_type": "code",
        "colab": {}
      },
      "source": [
        "# Group by year by channel type\n"
      ],
      "execution_count": null,
      "outputs": []
    },
    {
      "cell_type": "code",
      "metadata": {
        "id": "9cWRLNkV4jYm",
        "colab_type": "code",
        "colab": {}
      },
      "source": [
        "# Visualize\n",
        "\n",
        "plt.xlabel(\"Channel Type\")\n",
        "plt.ylabel(\"Revenue\")\n",
        "plt.title(\"Revenue by Channel Type\")\n",
        "plt.show()"
      ],
      "execution_count": null,
      "outputs": []
    },
    {
      "cell_type": "markdown",
      "metadata": {
        "id": "cIlD0evqdW--",
        "colab_type": "text"
      },
      "source": [
        "---\n",
        "<center><h1> Q&A 4</h1> </center>\n",
        "\n",
        "---"
      ]
    }
  ]
}
